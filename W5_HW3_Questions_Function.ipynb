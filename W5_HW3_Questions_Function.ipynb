{
  "nbformat": 4,
  "nbformat_minor": 0,
  "metadata": {
    "colab": {
      "provenance": [],
      "include_colab_link": true
    },
    "kernelspec": {
      "name": "python3",
      "display_name": "Python 3"
    },
    "language_info": {
      "name": "python"
    }
  },
  "cells": [
    {
      "cell_type": "markdown",
      "metadata": {
        "id": "view-in-github",
        "colab_type": "text"
      },
      "source": [
        "<a href=\"https://colab.research.google.com/github/shiromirai/vcs_Practice/blob/main/W5_HW3_Questions_Function.ipynb\" target=\"_parent\"><img src=\"https://colab.research.google.com/assets/colab-badge.svg\" alt=\"Open In Colab\"/></a>"
      ]
    },
    {
      "cell_type": "markdown",
      "source": [
        "# **Week 5- Homework 3. Functions**"
      ],
      "metadata": {
        "id": "4pykq9yAWMJc"
      }
    },
    {
      "cell_type": "markdown",
      "source": [
        "**Question 1.** Write a function named add that takes two numbers as arguments and returns their sum."
      ],
      "metadata": {
        "id": "8a9h5DfrT0m-"
      }
    },
    {
      "cell_type": "code",
      "source": [
        "def add(num1,num2):\n",
        "  return num1+num2\n",
        "\n",
        "\n",
        "\n",
        "\n",
        "\n",
        "\n",
        "\n",
        "\n",
        "\n"
      ],
      "metadata": {
        "id": "W257oIJmT0z_"
      },
      "execution_count": 1,
      "outputs": []
    },
    {
      "cell_type": "code",
      "source": [
        "add(1,2)"
      ],
      "metadata": {
        "colab": {
          "base_uri": "https://localhost:8080/"
        },
        "id": "tdgNPSZzWC6H",
        "outputId": "7a463c29-ece9-45b2-f2a5-38f74c5ea5ef"
      },
      "execution_count": 2,
      "outputs": [
        {
          "output_type": "execute_result",
          "data": {
            "text/plain": [
              "3"
            ]
          },
          "metadata": {},
          "execution_count": 2
        }
      ]
    },
    {
      "cell_type": "markdown",
      "source": [
        "**Question 2.** Write a function named average that takes a list of numbers and returns their average."
      ],
      "metadata": {
        "id": "KGNQ9AjhT069"
      }
    },
    {
      "cell_type": "code",
      "source": [
        "def average(numbers):\n",
        "  for number in numbers:\n",
        "    return sum(numbers)/len(numbers)\n",
        "\n",
        "\n",
        "\n",
        "\n",
        "\n",
        "\n",
        "\n",
        "\n",
        "\n",
        "\n"
      ],
      "metadata": {
        "id": "q0avuru9T1C-"
      },
      "execution_count": 3,
      "outputs": []
    },
    {
      "cell_type": "code",
      "source": [
        "average([1,2,3])"
      ],
      "metadata": {
        "colab": {
          "base_uri": "https://localhost:8080/"
        },
        "id": "qKdAIhixWHMo",
        "outputId": "7eecf1e6-63a4-4a7a-ff10-bcb67eb7cdf1"
      },
      "execution_count": 4,
      "outputs": [
        {
          "output_type": "execute_result",
          "data": {
            "text/plain": [
              "2.0"
            ]
          },
          "metadata": {},
          "execution_count": 4
        }
      ]
    },
    {
      "cell_type": "markdown",
      "source": [
        "**Question 3.**  Convert a given number of days into a combination of weeks and days."
      ],
      "metadata": {
        "id": "WamtOSO9T1KJ"
      }
    },
    {
      "cell_type": "code",
      "source": [
        "def days_to_weeks(days):\n",
        "  weeks=days//7\n",
        "  days=days%7\n",
        "  if days>1 and weeks>1:\n",
        "    print(f\"This month has {weeks} weeks and {days} days \")\n",
        "  elif days>1 and weeks==1:\n",
        "    print(f\"This month has {weeks} week and {days} days \")\n",
        "  elif days==1 and weeks==1:\n",
        "    print(f\"This month has {weeks} week and {days} day \")\n",
        "  else:\n",
        "    print(f\"This month has {weeks} weeks and {days} day\")\n",
        "\n",
        "\n",
        "\n",
        "\n",
        "\n",
        "\n",
        "\n",
        "\n"
      ],
      "metadata": {
        "id": "zgI6PKNlT1RI"
      },
      "execution_count": 5,
      "outputs": []
    },
    {
      "cell_type": "code",
      "source": [
        "days_to_weeks(15)"
      ],
      "metadata": {
        "colab": {
          "base_uri": "https://localhost:8080/"
        },
        "id": "GQcr6JiFWNNn",
        "outputId": "7c1909b0-550a-47c1-9b48-3337c3e6fa98"
      },
      "execution_count": 6,
      "outputs": [
        {
          "output_type": "stream",
          "name": "stdout",
          "text": [
            "This month has 2 weeks and 1 day\n"
          ]
        }
      ]
    },
    {
      "cell_type": "markdown",
      "source": [
        "**Question 4.** Write a function named string_length that takes a string and returns its length without using the built-in len() function."
      ],
      "metadata": {
        "id": "KZEw9z9fT1ZP"
      }
    },
    {
      "cell_type": "code",
      "source": [
        "def string_leng(input):\n",
        "  count=0\n",
        "  for i in input:\n",
        "    count+=1\n",
        "  return count\n",
        "\n",
        "\n",
        "\n",
        "\n",
        "\n",
        "\n"
      ],
      "metadata": {
        "id": "KCqi8thQT1f5"
      },
      "execution_count": 15,
      "outputs": []
    },
    {
      "cell_type": "code",
      "source": [
        "string_leng(\"Hello\")"
      ],
      "metadata": {
        "colab": {
          "base_uri": "https://localhost:8080/"
        },
        "id": "Ri1JsvOcWTI8",
        "outputId": "263fff48-7311-41cb-be30-4e24c876ff22"
      },
      "execution_count": 8,
      "outputs": [
        {
          "output_type": "execute_result",
          "data": {
            "text/plain": [
              "5"
            ]
          },
          "metadata": {},
          "execution_count": 8
        }
      ]
    },
    {
      "cell_type": "markdown",
      "source": [
        " **Question 5.** Write a function named max_number that takes two numbers as arguments and returns the maximum of the two."
      ],
      "metadata": {
        "id": "7LgBX_7IT1m3"
      }
    },
    {
      "cell_type": "code",
      "source": [
        "def max_number(number1, number2):\n",
        "  return max(number1,number2)\n",
        "\n",
        "\n",
        "\n",
        "\n",
        "\n",
        "\n",
        "\n"
      ],
      "metadata": {
        "id": "nQpdYKsGT1s1"
      },
      "execution_count": 14,
      "outputs": []
    },
    {
      "cell_type": "code",
      "source": [
        "max_number(1,2)"
      ],
      "metadata": {
        "colab": {
          "base_uri": "https://localhost:8080/"
        },
        "id": "pnBw4xvEWckK",
        "outputId": "3a53fd5a-c6a7-459b-9366-579c4e8ca313"
      },
      "execution_count": 10,
      "outputs": [
        {
          "output_type": "execute_result",
          "data": {
            "text/plain": [
              "2"
            ]
          },
          "metadata": {},
          "execution_count": 10
        }
      ]
    },
    {
      "cell_type": "markdown",
      "source": [
        "**Question 6.**Write a function named count_down that takes a number as an argument and prints all numbers from the number down to 1."
      ],
      "metadata": {
        "id": "jdYyDLMeT1zH"
      }
    },
    {
      "cell_type": "code",
      "source": [
        "def count_down(number):\n",
        "  for i in range(number,0,-1):\n",
        "    print(i)\n",
        "\n",
        "\n",
        "\n",
        "\n",
        "\n",
        "\n",
        "\n",
        "\n",
        "\n"
      ],
      "metadata": {
        "id": "9VW5OE7UT151"
      },
      "execution_count": 13,
      "outputs": []
    },
    {
      "cell_type": "code",
      "source": [
        "count_down(5)"
      ],
      "metadata": {
        "colab": {
          "base_uri": "https://localhost:8080/"
        },
        "id": "N8ikZQwpWkfz",
        "outputId": "9fd3f0d1-eb0e-4a6f-c022-802c29ae4a96"
      },
      "execution_count": 12,
      "outputs": [
        {
          "output_type": "stream",
          "name": "stdout",
          "text": [
            "5\n",
            "4\n",
            "3\n",
            "2\n",
            "1\n"
          ]
        }
      ]
    },
    {
      "cell_type": "markdown",
      "source": [
        "**Question 7.** Write a function named multiply_list that takes a list of numbers as an argument and returns the product of all the numbers in the list."
      ],
      "metadata": {
        "id": "mXKeymFkT1_1"
      }
    },
    {
      "cell_type": "code",
      "source": [
        "def multiply(numbers):\n",
        "  result=1\n",
        "  for number in numbers:\n",
        "    result*=number\n",
        "  return result\n",
        "\n",
        "\n",
        "\n",
        "\n",
        "\n",
        "\n",
        "\n",
        "\n"
      ],
      "metadata": {
        "id": "tzxsf5s7T2HQ"
      },
      "execution_count": 16,
      "outputs": []
    },
    {
      "cell_type": "code",
      "source": [
        "multiply({1,2,1})"
      ],
      "metadata": {
        "colab": {
          "base_uri": "https://localhost:8080/"
        },
        "id": "3Owy1gjrWtx2",
        "outputId": "630ea8e3-6830-4206-e405-fafb9e48d0d9"
      },
      "execution_count": 17,
      "outputs": [
        {
          "output_type": "execute_result",
          "data": {
            "text/plain": [
              "2"
            ]
          },
          "metadata": {},
          "execution_count": 17
        }
      ]
    },
    {
      "cell_type": "code",
      "source": [],
      "metadata": {
        "id": "J4ibT2lNWvlu"
      },
      "execution_count": null,
      "outputs": []
    }
  ]
}